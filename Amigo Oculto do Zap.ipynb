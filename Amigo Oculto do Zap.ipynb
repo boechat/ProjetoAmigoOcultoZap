{
 "cells": [
  {
   "cell_type": "markdown",
   "id": "4ff98bea",
   "metadata": {},
   "source": [
    "<h1>Projeto de Automação Web com Selenium para Criar um Amigo Oculto</h1>\n",
    "\n",
    "<h2>Descrição do Projeto:</h2>\n",
    "\n",
    "<h3>Do Tratamento de Dados:</h3>\n",
    "\n",
    "* Usuário vai prover um documento excel denominado 'Amigo_Oculto_bangu.xlsx' que deverá ser lido.\n",
    "* Será criada uma nova coluna na tabela, lendo a lista de nomes e associando aleatoriamente um dos nomes.\n",
    "* Há condições que devem ser atendidas:\n",
    "    * Um mesmo nome não pode se 'tirar'\n",
    "    * Deverá ser verificado se os telefones são válidos\n",
    "\n",
    "<h3>Da Validação:</h3>\n",
    "\n",
    "* Deverá ser enviado para um email do bot a lista final, para conferência futura.\n",
    "* O email deve constar a data com hora do envio.\n",
    "* Para cada mensagem enviada no Processo de Automação, deverá ser registrado o envio com sucesso, possivelmente capturando a tela para validação.\n",
    "\n",
    "<h3>Da Automação:</h3>\n",
    "\n",
    "* Após feito o tratamento, o programa deverá acessar o Whatsapp Web ( https://web.whatsapp.com/ ) e enviar o nome das pessoas tiradas para cada pessoa da lista."
   ]
  },
  {
   "cell_type": "code",
   "execution_count": null,
   "id": "b0acc4a6",
   "metadata": {},
   "outputs": [],
   "source": [
    "# Lendo o Arquivo\n",
    "import re\n",
    "import pandas as pd\n",
    "caminho_arq = r'C:\\\\Users\\\\User\\\\Desktop\\\\\\\\'\n",
    "nome_arq = 'Amigo_Oculto_bangu.xlsx'\n",
    "\n",
    "arq = pd.read_excel(caminho_arq+nome_arq)\n",
    "aux = arq\n",
    "\n",
    "##PARA TESTES, PONHA SEU TELEFONE AQUI NO FORMATO +55 21 99999-9999\n",
    "tel_teste = '+55 21 99999-9999'\n",
    "\n",
    "#display(arq)"
   ]
  },
  {
   "cell_type": "code",
   "execution_count": null,
   "id": "6b5ee390",
   "metadata": {},
   "outputs": [],
   "source": [
    "import random\n",
    "embaralha = arq['Nome'].sample(frac=1).reset_index(drop=True)\n",
    "arq['Sorteados'] = embaralha\n",
    "\n",
    "#display(arq)"
   ]
  },
  {
   "cell_type": "code",
   "execution_count": null,
   "id": "1bf54fbc",
   "metadata": {},
   "outputs": [],
   "source": [
    "while (arq['Nome'] == arq['Sorteados']).any():\n",
    "    arq['Sorteados'] = arq['Nome'].sample(frac=1).reset_index(drop=True) \n",
    "    \n",
    "#display(arq)"
   ]
  },
  {
   "cell_type": "code",
   "execution_count": null,
   "id": "9839353c",
   "metadata": {},
   "outputs": [],
   "source": [
    "#i = 0\n",
    "#while(i in arq['Nome']):\n",
    "#    print(i,arq['Nome'][i],' TIROU A ',arq['Sorteados'][i],'ENVIAR MENSAGEM PARA',arq['Telefone'][i])\n",
    "#    i=i+1"
   ]
  },
  {
   "cell_type": "code",
   "execution_count": null,
   "id": "ac8817d2",
   "metadata": {},
   "outputs": [],
   "source": [
    "# Função para validar números de telefone nos formatos +55 21 99999-9999 ou 5521999999999\n",
    "\n",
    "\n",
    "def validar_numero_telefone(numero):\n",
    "    # Expressão regular para validar números de telefone com o formato específico ou apenas números\n",
    "    padrao = r'^(\\+?\\d{2} ?\\d{2} ?\\d{5}-?\\d{4})$'\n",
    "    \n",
    "    # Verifica se a string corresponde ao padrão de número de telefone\n",
    "    if re.match(padrao, numero):\n",
    "        return numero\n",
    "    else:\n",
    "        return 'TELEFONE INVÁLIDO'\n",
    "\n",
    "# Aplica a função 'validar_numero_telefone' à coluna 'Telefones'\n",
    "arq['Telefone'] = arq['Telefone'].apply(validar_numero_telefone)\n",
    "\n",
    "#arq"
   ]
  },
  {
   "cell_type": "markdown",
   "id": "cd0e4ba0",
   "metadata": {},
   "source": [
    "# CONECTANDO COM SELENIUM PARA ENVIAR MENSAGEM"
   ]
  },
  {
   "cell_type": "code",
   "execution_count": null,
   "id": "24248719",
   "metadata": {},
   "outputs": [],
   "source": [
    "import pandas as pd\n",
    "import selenium as se\n",
    "import time\n",
    "import os"
   ]
  },
  {
   "cell_type": "code",
   "execution_count": null,
   "id": "91260aff",
   "metadata": {},
   "outputs": [],
   "source": [
    "# ENTRA NO WHATSAPP #\n",
    "\n",
    "from selenium import webdriver\n",
    "from selenium.webdriver.common.keys import Keys          \n",
    "from selenium.webdriver.common.by import By\n",
    "from selenium.webdriver.support.ui import WebDriverWait\n",
    "from selenium.webdriver.support import expected_conditions as EC\n",
    "\n",
    "navegador = webdriver.Chrome()\n",
    "##navegador.get vai até uma pagina\n",
    "webzap = (\"https://web.whatsapp.com/\")\n",
    "navegador.get(webzap)\n",
    "\n",
    "TRATA_ERRO = 0\n",
    "FINALIZOU = 0"
   ]
  },
  {
   "cell_type": "markdown",
   "id": "15f225c5",
   "metadata": {},
   "source": [
    "<h2>Verifica QR CODE</h2>"
   ]
  },
  {
   "cell_type": "code",
   "execution_count": null,
   "id": "ea59fd21",
   "metadata": {},
   "outputs": [],
   "source": [
    "## AGUARDA LOGIN ##\n",
    "\n",
    "##Ver se um elemento apareceu na tela#\n",
    "time.sleep(10)\n",
    "qrcode = navegador.find_elements(By.ID,'app')  \n",
    "## //*[@id=\"app\"]/div/div/div[3]/div[1]/div/div/div[2]/div/canvas  ##\n",
    "print(len(qrcode))\n",
    "\n",
    "# Ver se o QR Code Apareceu na Tela\n",
    "# Inicie a contagem do tempo\n",
    "tentativa = 0\n",
    "while (len(qrcode) < 1):\n",
    "    passou =  time.time()\n",
    "    print('navegador não carregou ainda , Tentativa '+str(tentativa))\n",
    "    print(len(qrcode))\n",
    "    tentativa += 1\n",
    "    qrcode = navegador.find_elements(By.ID,'side')  \n",
    "    time.sleep(1)\n",
    "    \n",
    "print('QRCODE presente, Aguardar USUARIO autenticar')\n",
    "\n",
    "##Feito o Login, Aguardar elemento aparecer na tela\n",
    "#time.sleep(10)\n",
    "elemento_do_navegador = navegador.find_elements(By.ID,'side')  \n",
    "# Inicie a contagem do tempo\n",
    "tentativa = 0\n",
    "while (len(elemento_do_navegador) < 1):\n",
    "    passou =  time.time()\n",
    "    print('navegador não carregou ainda , Tentativa '+str(tentativa))\n",
    "    print(len(elemento_do_navegador))\n",
    "    tentativa += 1\n",
    "    elemento_do_navegador = navegador.find_elements(By.ID,'side')  \n",
    "    time.sleep(7)\n",
    "if(len(elemento_do_navedor)>=1)\n",
    "    print('navegador carregou!')"
   ]
  },
  {
   "cell_type": "code",
   "execution_count": null,
   "id": "4df273ed",
   "metadata": {},
   "outputs": [],
   "source": [
    "### DATAFRAME QUE UTILIZAREMOS PARA PEGAR OS NUMEROS TELEFONICOS, já sorteados\n",
    "\n",
    "arq"
   ]
  },
  {
   "cell_type": "code",
   "execution_count": null,
   "id": "a8d09222",
   "metadata": {},
   "outputs": [],
   "source": [
    "import datetime\n",
    "\n",
    "# HORA AGORA\n",
    "hora = datetime.datetime.now()\n",
    "# FORMATAR EM  \"HH:MM:SS\"\n",
    "hora_formatada = hora.strftime(\"%H:%M:%S\")\n",
    "#msg = msg +' Mensagem Enviada às ' + str(hora.strftime(\"%H:%M:%S\"))"
   ]
  },
  {
   "cell_type": "code",
   "execution_count": null,
   "id": "6811545a",
   "metadata": {},
   "outputs": [],
   "source": [
    "### ITERADOR PARA PEGAR O NUMERO TELEFONICO\n",
    "qtd_linhas = arq.shape[0]\n",
    "for i,val in arq.iterrows():\n",
    "    ### CRIAR MENSAGEM PARA ENVIAR\n",
    "    print('Iteração :',i)\n",
    "    tel = val[1]\n",
    "    p1 = val[0]\n",
    "    p2 = val[2]\n",
    "    msg = \"Olá, {}! Você tirou {} no nosso amigo oculto! Esse envio foi realizado às {}\".format(p1, p2,hora_formatada)\n",
    "    #print(tel)\n",
    "    ##### TESTE TEL\n",
    "    tel = tel_teste\n",
    "    print(tel)\n",
    "\n",
    "    # ENVIAR MENSAGEM #\n",
    "    link_envio = 'https://web.whatsapp.com/send?phone='+str(tel)+'&text='+str(msg)\n",
    "    #link_envio = f'https://web.whatsapp.com/send?phone={tel}&text={msg}'\n",
    "    print('Link de Envio '+link_envio)\n",
    "    navegador.get(link_envio)\n",
    "    \n",
    "    # Verificar se o número é inválido\n",
    "    tentativa = 0\n",
    "    FINALIZOU = 0\n",
    "    time.sleep(5)\n",
    "    while (len(elemento_do_navegador) < 1):\n",
    "        print('navegador não carregou ainda , Tentativa '+str(tentativa))\n",
    "        print(len(elemento_do_navegador))\n",
    "        tentativa += 1\n",
    "        elemento_do_navegador = navegador.find_elements(By.ID,'side')  \n",
    "        time.sleep(10)\n",
    "        \n",
    "  \n",
    "    if len(navegador.find_elements(By.XPATH,'//*[@id=\"app\"]/div/span[2]/div/span/div/div/div/div/div/div[1]'))>0:\n",
    "        msg_erro = navegador.find_element(By.XPATH,'//*[@id=\"app\"]/div/span[2]/div/span/div/div/div/div/div/div[1]').text \n",
    "        TRATA_ERRO = 1\n",
    "        FINALIZOU = 1\n",
    "        print(msg_erro)\n",
    "        break\n",
    "    \n",
    "\n",
    "    ##Esperar a Tela Carregar\n",
    "    print('ver se vai carregar')\n",
    "    ##Ver se um elemento apareceu na tela#\n",
    "    time.sleep(10)\n",
    "    elemento_do_navegador = navegador.find_elements(By.ID,'side')  \n",
    "    # Inicie a contagem do tempo\n",
    "    tentativa = 0\n",
    "    print(FINALIZOU)\n",
    "    while FINALIZOU == 0:\n",
    "        while (len(elemento_do_navegador) < 1):\n",
    "            if tentativa >= 30:\n",
    "                print('Muitos erros seguidos.')\n",
    "                FINALIZOU = 1\n",
    "                TRATA_ERRO = 1\n",
    "                break\n",
    "            passou =  time.time()\n",
    "            print('navegador não carregou ainda , Tentativa '+str(tentativa))\n",
    "            print(len(elemento_do_navegador))\n",
    "            tentativa += 1\n",
    "            elemento_do_navegador = navegador.find_elements(By.ID,'side')  \n",
    "            time.sleep(1)\n",
    "        \n",
    "        ###Terminou de Carregar\n",
    "        time.sleep(2)\n",
    "        # Localizar elemento pra enviar o enter\n",
    "        caixa_texto = navegador.find_element(By.XPATH,'//*[@id=\"main\"]/footer/div[1]/div/span[2]/div/div[2]/div[1]/div/div[1]/p')  \n",
    "        print('CLICOU')\n",
    "        # Envie a tecla \"Enter\" para o elemento de entrada\n",
    "        caixa_texto.send_keys(Keys.ENTER)\n",
    "        print('Mensagem Enviada! ')\n",
    "        time.sleep(8)\n",
    "        FINALIZOU = 1\n",
    "    "
   ]
  },
  {
   "cell_type": "markdown",
   "id": "426e1842",
   "metadata": {},
   "source": [
    "# ENVIO DO EMAIL"
   ]
  },
  {
   "cell_type": "code",
   "execution_count": null,
   "id": "4b71a514",
   "metadata": {},
   "outputs": [],
   "source": []
  }
 ],
 "metadata": {
  "kernelspec": {
   "display_name": "Python 3 (ipykernel)",
   "language": "python",
   "name": "python3"
  },
  "language_info": {
   "codemirror_mode": {
    "name": "ipython",
    "version": 3
   },
   "file_extension": ".py",
   "mimetype": "text/x-python",
   "name": "python",
   "nbconvert_exporter": "python",
   "pygments_lexer": "ipython3",
   "version": "3.9.13"
  }
 },
 "nbformat": 4,
 "nbformat_minor": 5
}
