{
 "cells": [
  {
   "cell_type": "markdown",
   "id": "4ff98bea",
   "metadata": {},
   "source": [
    "<h1>Projeto de Automação Web com Selenium para Criar um Amigo Oculto</h1>\n",
    "\n",
    "<h2>Descrição do Projeto:</h2>\n",
    "\n",
    "<h3>Do Tratamento de Dados:</h3>\n",
    "\n",
    "* Usuário vai prover um documento excel denominado 'Amigo_Oculto_bangu.xlsx' que deverá ser lido.\n",
    "* Será criada uma nova coluna na tabela, lendo a lista de nomes e associando aleatoriamente um dos nomes.\n",
    "* Há condições que devem ser atendidas:\n",
    "    * Um mesmo nome não pode se 'tirar'\n",
    "    * Há uma lista 'especial' de pessoas que não podem se tirar entre si, que será providenciada pelo usuário\n",
    "    * Deverá ser verificado se os telefones são válidos\n",
    "\n",
    "<h3>Da Validação:</h3>\n",
    "\n",
    "* Deverá ser enviado para um email do bot a lista final, para conferência futura.\n",
    "* O email deve constar a data com hora do envio.\n",
    "* Para cada mensagem enviada no Processo de Automação, deverá ser registrado o envio com sucesso, possivelmente capturando a tela para validação.\n",
    "\n",
    "<h3>Da Automação:</h3>\n",
    "\n",
    "* Após feito o tratamento, o programa deverá acessar o Whatsapp Web ( https://web.whatsapp.com/ ) e enviar o nome das pessoas tiradas para cada pessoa da lista."
   ]
  },
  {
   "cell_type": "code",
   "execution_count": 47,
   "id": "b0acc4a6",
   "metadata": {},
   "outputs": [],
   "source": [
    "# Lendo o Arquivo\n",
    "import re\n",
    "import pandas as pd\n",
    "caminho_arq = r'C:\\\\Users\\\\User\\\\Desktop\\\\\\\\'\n",
    "nome_arq = 'Amigo_Oculto_bangu.xlsx'\n",
    "\n",
    "arq = pd.read_excel(caminho_arq+nome_arq)\n",
    "aux = arq\n",
    "\n",
    "#display(arq)"
   ]
  },
  {
   "cell_type": "code",
   "execution_count": 48,
   "id": "6b5ee390",
   "metadata": {},
   "outputs": [],
   "source": [
    "import random\n",
    "embaralha = arq['Nome'].sample(frac=1).reset_index(drop=True)\n",
    "arq['Sorteados'] = embaralha\n",
    "\n",
    "#display(arq)"
   ]
  },
  {
   "cell_type": "code",
   "execution_count": 49,
   "id": "1bf54fbc",
   "metadata": {},
   "outputs": [],
   "source": [
    "while (arq['Nome'] == arq['Sorteados']).any():\n",
    "    arq['Sorteados'] = arq['Nome'].sample(frac=1).reset_index(drop=True) \n",
    "    \n",
    "#display(arq)"
   ]
  },
  {
   "cell_type": "code",
   "execution_count": 50,
   "id": "9839353c",
   "metadata": {},
   "outputs": [],
   "source": [
    "#i = 0\n",
    "#while(i in arq['Nome']):\n",
    "#    print(i,arq['Nome'][i],' TIROU A ',arq['Sorteados'][i],'ENVIAR MENSAGEM PARA',arq['Telefone'][i])\n",
    "#    i=i+1"
   ]
  },
  {
   "cell_type": "code",
   "execution_count": 51,
   "id": "ac8817d2",
   "metadata": {},
   "outputs": [],
   "source": [
    "# Função para validar números de telefone nos formatos +55 21 99999-9999 ou 5521999999999\n",
    "\n",
    "\n",
    "def validar_numero_telefone(numero):\n",
    "    # Expressão regular para validar números de telefone com o formato específico ou apenas números\n",
    "    padrao = r'^(\\+?\\d{2} ?\\d{2} ?\\d{5}-?\\d{4})$'\n",
    "    \n",
    "    # Verifica se a string corresponde ao padrão de número de telefone\n",
    "    if re.match(padrao, numero):\n",
    "        return numero\n",
    "    else:\n",
    "        return 'TELEFONE INVÁLIDO'\n",
    "\n",
    "# Aplica a função 'validar_numero_telefone' à coluna 'Telefones'\n",
    "arq['Telefone'] = arq['Telefone'].apply(validar_numero_telefone)\n",
    "\n",
    "#arq"
   ]
  },
  {
   "cell_type": "code",
   "execution_count": null,
   "id": "c5eae44c",
   "metadata": {},
   "outputs": [],
   "source": []
  }
 ],
 "metadata": {
  "kernelspec": {
   "display_name": "Python 3 (ipykernel)",
   "language": "python",
   "name": "python3"
  },
  "language_info": {
   "codemirror_mode": {
    "name": "ipython",
    "version": 3
   },
   "file_extension": ".py",
   "mimetype": "text/x-python",
   "name": "python",
   "nbconvert_exporter": "python",
   "pygments_lexer": "ipython3",
   "version": "3.9.13"
  }
 },
 "nbformat": 4,
 "nbformat_minor": 5
}
